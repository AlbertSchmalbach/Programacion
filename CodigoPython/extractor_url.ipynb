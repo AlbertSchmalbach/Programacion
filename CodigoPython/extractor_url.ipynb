{
  "cells": [
    {
      "cell_type": "markdown",
      "metadata": {
        "colab_type": "text",
        "id": "view-in-github"
      },
      "source": [
        "<a href=\"https://colab.research.google.com/github/ahcamachod/2027-string-en-python-extrayendo-informacion-de-una-url/blob/proyecto-final/extractor_url.ipynb\" target=\"_parent\"><img src=\"https://colab.research.google.com/assets/colab-badge.svg\" alt=\"Open In Colab\"/></a>"
      ]
    },
    {
      "cell_type": "markdown",
      "metadata": {
        "id": "8zM3zdAXn-aG"
      },
      "source": [
        "\n",
        "https://www.bytebank.com/cambio?monedaOrigen=usd&monedaDestino=cop&cantidad=100\n",
        "\n"
      ]
    },
    {
      "cell_type": "code",
      "execution_count": 2,
      "metadata": {
        "id": "0JG7OCz4olRx"
      },
      "outputs": [],
      "source": [
        "texto = 'abcdef'"
      ]
    },
    {
      "cell_type": "code",
      "execution_count": 3,
      "metadata": {
        "colab": {
          "base_uri": "https://localhost:8080/",
          "height": 35
        },
        "id": "f1ZULSQgo64F",
        "outputId": "b646e7c0-a569-4f06-b03d-c486ca5f591b"
      },
      "outputs": [
        {
          "data": {
            "text/plain": [
              "'a'"
            ]
          },
          "execution_count": 3,
          "metadata": {},
          "output_type": "execute_result"
        }
      ],
      "source": [
        "texto[0]"
      ]
    },
    {
      "cell_type": "code",
      "execution_count": 4,
      "metadata": {
        "colab": {
          "base_uri": "https://localhost:8080/",
          "height": 35
        },
        "id": "-UzXjcQeo_rG",
        "outputId": "6a08785d-e949-4f09-f514-502a8e6fdb41"
      },
      "outputs": [
        {
          "data": {
            "text/plain": [
              "'abc'"
            ]
          },
          "execution_count": 4,
          "metadata": {},
          "output_type": "execute_result"
        }
      ],
      "source": [
        "texto[0:3]"
      ]
    },
    {
      "cell_type": "code",
      "execution_count": 5,
      "metadata": {
        "colab": {
          "base_uri": "https://localhost:8080/",
          "height": 35
        },
        "id": "d896YM51pM0A",
        "outputId": "9bc41f15-1967-405f-850a-b9c34451f4a3"
      },
      "outputs": [
        {
          "data": {
            "text/plain": [
              "'def'"
            ]
          },
          "execution_count": 5,
          "metadata": {},
          "output_type": "execute_result"
        }
      ],
      "source": [
        "texto[3:6]"
      ]
    },
    {
      "cell_type": "code",
      "execution_count": 6,
      "metadata": {
        "colab": {
          "base_uri": "https://localhost:8080/"
        },
        "id": "uNieTYqspVG2",
        "outputId": "984f593d-c789-412f-fecf-ca3ce2a5585d"
      },
      "outputs": [
        {
          "name": "stdout",
          "output_type": "stream",
          "text": [
            "www.bytebank.com/cambio\n",
            "monedaOrigen=usd\n"
          ]
        }
      ],
      "source": [
        "url = 'www.bytebank.com/cambio?monedaOrigen=usd'\n",
        "\n",
        "base_url = url[0:23]\n",
        "parametros_url = url[24:41]\n",
        "print(base_url)\n",
        "print(parametros_url)"
      ]
    },
    {
      "cell_type": "code",
      "execution_count": 7,
      "metadata": {
        "colab": {
          "base_uri": "https://localhost:8080/"
        },
        "id": "FgIPaX-fub1a",
        "outputId": "3d832a45-0569-4205-eb3c-faa6e9c00eb7"
      },
      "outputs": [
        {
          "data": {
            "text/plain": [
              "3"
            ]
          },
          "execution_count": 7,
          "metadata": {},
          "output_type": "execute_result"
        }
      ],
      "source": [
        "texto.find('d')"
      ]
    },
    {
      "cell_type": "code",
      "execution_count": 8,
      "metadata": {
        "colab": {
          "base_uri": "https://localhost:8080/"
        },
        "id": "NZWazmvUu9Iw",
        "outputId": "0b61d808-1b75-4396-9904-f87a1388a052"
      },
      "outputs": [
        {
          "data": {
            "text/plain": [
              "31"
            ]
          },
          "execution_count": 8,
          "metadata": {},
          "output_type": "execute_result"
        }
      ],
      "source": [
        "url = 'https://www.bytebank.com/cambio?monedaOrigen=usd&monedaDestino=cop&cantidad=100&operacion=venta'\n",
        "url.find('?')"
      ]
    },
    {
      "cell_type": "code",
      "execution_count": 9,
      "metadata": {
        "colab": {
          "base_uri": "https://localhost:8080/"
        },
        "id": "CZ1v6zHIvRwH",
        "outputId": "c6f31155-2889-4dd3-b7c1-899df079647d"
      },
      "outputs": [
        {
          "name": "stdout",
          "output_type": "stream",
          "text": [
            "https://www.bytebank.com/cambio\n",
            "monedaOrigen=usd&monedaDestino=cop&cantidad=100&operacion=venta\n"
          ]
        }
      ],
      "source": [
        "indice_interrogacion = url.find('?')\n",
        "base_url = url[:indice_interrogacion]\n",
        "parametros_url = url[indice_interrogacion + 1:]\n",
        "print(base_url)\n",
        "print(parametros_url)"
      ]
    },
    {
      "cell_type": "code",
      "execution_count": 10,
      "metadata": {
        "colab": {
          "base_uri": "https://localhost:8080/"
        },
        "id": "PWWqUdLSv6Jw",
        "outputId": "d1e97614-a148-411c-bd98-ad9157f38d0d"
      },
      "outputs": [
        {
          "data": {
            "text/plain": [
              "3"
            ]
          },
          "execution_count": 10,
          "metadata": {},
          "output_type": "execute_result"
        }
      ],
      "source": [
        "texto = 'Yo estudio en Alura'\n",
        "texto.find('estudio')"
      ]
    },
    {
      "cell_type": "code",
      "execution_count": 11,
      "metadata": {
        "id": "U_h82kmoyTR2"
      },
      "outputs": [],
      "source": [
        "parametro_busqueda = 'operacion'\n",
        "indice_parametro = parametros_url.find(parametro_busqueda)\n",
        "indice_valor = indice_parametro + len(parametro_busqueda) + 1"
      ]
    },
    {
      "cell_type": "code",
      "execution_count": 12,
      "metadata": {
        "colab": {
          "base_uri": "https://localhost:8080/"
        },
        "id": "fqdiNh8GzQmd",
        "outputId": "2dd2e771-1bc8-42f5-a43e-922877b4b334"
      },
      "outputs": [
        {
          "name": "stdout",
          "output_type": "stream",
          "text": [
            "venta\n"
          ]
        }
      ],
      "source": [
        "valor = parametros_url[indice_valor:]\n",
        "print(valor)"
      ]
    },
    {
      "cell_type": "code",
      "execution_count": 13,
      "metadata": {
        "colab": {
          "base_uri": "https://localhost:8080/"
        },
        "id": "NnTIvyewzcZ1",
        "outputId": "8a6d2c84-158c-40e9-e745-1c5ed38b44d8"
      },
      "outputs": [
        {
          "name": "stdout",
          "output_type": "stream",
          "text": [
            "venta\n"
          ]
        }
      ],
      "source": [
        "parametro_busqueda = 'operacion'\n",
        "indice_parametro = parametros_url.find(parametro_busqueda)\n",
        "indice_valor = indice_parametro + len(parametro_busqueda) + 1\n",
        "valor = parametros_url[indice_valor:]\n",
        "print(valor)"
      ]
    },
    {
      "cell_type": "code",
      "execution_count": 14,
      "metadata": {
        "colab": {
          "base_uri": "https://localhost:8080/"
        },
        "id": "xdLRbrKB2tXa",
        "outputId": "8586f280-a098-4301-996b-a8b94a35ac29"
      },
      "outputs": [
        {
          "data": {
            "text/plain": [
              "-1"
            ]
          },
          "execution_count": 14,
          "metadata": {},
          "output_type": "execute_result"
        }
      ],
      "source": [
        "texto.find('z')"
      ]
    },
    {
      "cell_type": "code",
      "execution_count": 15,
      "metadata": {
        "colab": {
          "base_uri": "https://localhost:8080/"
        },
        "id": "sfLW71uv3QaL",
        "outputId": "9ef92422-1cdb-4d1f-c5c4-d1e06c3e4105"
      },
      "outputs": [
        {
          "name": "stdout",
          "output_type": "stream",
          "text": [
            "vent\n"
          ]
        }
      ],
      "source": [
        "indice_and = parametros_url.find('&',indice_valor)\n",
        "valor = parametros_url[indice_valor:indice_and]\n",
        "print(valor)"
      ]
    },
    {
      "cell_type": "code",
      "execution_count": 16,
      "metadata": {
        "colab": {
          "base_uri": "https://localhost:8080/"
        },
        "id": "DFSen3693hy2",
        "outputId": "621ddcf1-5ab2-4fb4-aea3-3d4e9d8655cf"
      },
      "outputs": [
        {
          "name": "stdout",
          "output_type": "stream",
          "text": [
            "100\n"
          ]
        }
      ],
      "source": [
        "url = 'https://www.bytebank.com/cambio?operacion=venta&monedaOrigen=usd&monedaDestino=cop&cantidad=100'\n",
        "\n",
        "parametro_busqueda = 'cantidad'\n",
        "indice_parametro = parametros_url.find(parametro_busqueda)\n",
        "indice_valor = indice_parametro + len(parametro_busqueda) + 1\n",
        "indice_and = parametros_url.find('&',indice_valor)\n",
        "if indice_and == -1:\n",
        "  valor = parametros_url[indice_valor:]\n",
        "else:\n",
        "  valor = parametros_url[indice_valor:indice_and]\n",
        "print(valor)"
      ]
    },
    {
      "cell_type": "code",
      "execution_count": 17,
      "metadata": {
        "colab": {
          "base_uri": "https://localhost:8080/",
          "height": 235
        },
        "id": "PlE-ckoB43ad",
        "outputId": "f46dff6d-c2f1-4e0e-a24c-51cf32395a33"
      },
      "outputs": [
        {
          "ename": "ValueError",
          "evalue": "La URL está vacía.",
          "output_type": "error",
          "traceback": [
            "\u001b[1;31m---------------------------------------------------------------------------\u001b[0m",
            "\u001b[1;31mValueError\u001b[0m                                Traceback (most recent call last)",
            "Cell \u001b[1;32mIn[17], line 5\u001b[0m\n\u001b[0;32m      2\u001b[0m url  \u001b[38;5;241m=\u001b[39m url\u001b[38;5;241m.\u001b[39mstrip()\n\u001b[0;32m      4\u001b[0m \u001b[38;5;28;01mif\u001b[39;00m url \u001b[38;5;241m==\u001b[39m \u001b[38;5;124m'\u001b[39m\u001b[38;5;124m'\u001b[39m:\n\u001b[1;32m----> 5\u001b[0m   \u001b[38;5;28;01mraise\u001b[39;00m \u001b[38;5;167;01mValueError\u001b[39;00m(\u001b[38;5;124m'\u001b[39m\u001b[38;5;124mLa URL está vacía.\u001b[39m\u001b[38;5;124m'\u001b[39m)\n\u001b[0;32m      7\u001b[0m parametro_busqueda \u001b[38;5;241m=\u001b[39m \u001b[38;5;124m'\u001b[39m\u001b[38;5;124mcantidad\u001b[39m\u001b[38;5;124m'\u001b[39m\n\u001b[0;32m      8\u001b[0m indice_parametro \u001b[38;5;241m=\u001b[39m parametros_url\u001b[38;5;241m.\u001b[39mfind(parametro_busqueda)\n",
            "\u001b[1;31mValueError\u001b[0m: La URL está vacía."
          ]
        }
      ],
      "source": [
        "url = ''\n",
        "url  = url.strip()\n",
        "\n",
        "if url == '':\n",
        "  raise ValueError('La URL está vacía.')\n",
        "\n",
        "parametro_busqueda = 'cantidad'\n",
        "indice_parametro = parametros_url.find(parametro_busqueda)\n",
        "indice_valor = indice_parametro + len(parametro_busqueda) + 1\n",
        "indice_and = parametros_url.find('&',indice_valor)\n",
        "if indice_and == -1:\n",
        "  valor = parametros_url[indice_valor:]\n",
        "else:\n",
        "  valor = parametros_url[indice_valor:indice_and]\n",
        "print(valor)"
      ]
    },
    {
      "cell_type": "code",
      "execution_count": 18,
      "metadata": {
        "colab": {
          "base_uri": "https://localhost:8080/"
        },
        "id": "UQ93imqK7Bpl",
        "outputId": "2b98f29f-ef34-4c14-f6a4-36258d0e4db9"
      },
      "outputs": [
        {
          "data": {
            "text/plain": [
              "False"
            ]
          },
          "execution_count": 18,
          "metadata": {},
          "output_type": "execute_result"
        }
      ],
      "source": [
        "'' == ' '"
      ]
    },
    {
      "cell_type": "code",
      "execution_count": 19,
      "metadata": {
        "colab": {
          "base_uri": "https://localhost:8080/",
          "height": 35
        },
        "id": "E_ubP1rB7Sdi",
        "outputId": "876b8043-28e5-413d-bae5-40f7bb74c199"
      },
      "outputs": [
        {
          "data": {
            "text/plain": [
              "''"
            ]
          },
          "execution_count": 19,
          "metadata": {},
          "output_type": "execute_result"
        }
      ],
      "source": [
        "url.replace(' ','')"
      ]
    },
    {
      "cell_type": "code",
      "execution_count": 20,
      "metadata": {
        "colab": {
          "base_uri": "https://localhost:8080/",
          "height": 35
        },
        "id": "ldnFolMM7zUC",
        "outputId": "b6fea567-b080-4514-905f-1688db14f6d1"
      },
      "outputs": [
        {
          "data": {
            "text/plain": [
              "'dds'"
            ]
          },
          "execution_count": 20,
          "metadata": {},
          "output_type": "execute_result"
        }
      ],
      "source": [
        "texto = \"\\n     dds   \"\n",
        "texto.strip()"
      ]
    },
    {
      "cell_type": "code",
      "execution_count": null,
      "metadata": {
        "id": "lPFU64vdIak4"
      },
      "outputs": [],
      "source": [
        "# Clase que sirva para limpiar, validar, obtener la url base y los parámetros además del valor de los parámetros.\n",
        "\n",
        "class ExtractorURL:\n",
        "  def __init__(self,url):\n",
        "    self.url = self.limpia_url(url)\n",
        "    self.valida_url()\n",
        "\n",
        "  def limpia_url(self,url):\n",
        "    if type(url) == str:\n",
        "      return url.strip()\n",
        "\n",
        "  def valida_url(self):\n",
        "    if not self.url:\n",
        "      raise ValueError('La URL está vacía.')\n",
        "\n",
        "  def get_base(self):\n",
        "    indice_interrogacion = self.url.find('?')\n",
        "    base_url = self.url[:indice_interrogacion]\n",
        "    return base_url\n",
        "\n",
        "  def get_parametros(self):\n",
        "    indice_interrogacion = self.url.find('?')\n",
        "    parametros_url = self.url[indice_interrogacion+1:]\n",
        "    return parametros_url\n",
        "\n",
        "  def get_valor_parametro(self,parametro_busqueda):\n",
        "    parametro_busqueda = parametro_busqueda\n",
        "    indice_parametro = self.get_parametros().find(parametro_busqueda)\n",
        "    indice_valor = indice_parametro + len(parametro_busqueda) + 1\n",
        "    indice_and = self.get_parametros().find('&',indice_valor)\n",
        "    if indice_and == -1:\n",
        "      valor = self.get_parametros()[indice_valor:]\n",
        "    else:\n",
        "      valor = self.get_parametros()[indice_valor:indice_and]\n",
        "    return valor"
      ]
    },
    {
      "cell_type": "code",
      "execution_count": null,
      "metadata": {
        "colab": {
          "base_uri": "https://localhost:8080/"
        },
        "id": "NJ5XudhVKdUZ",
        "outputId": "271d63c7-bb34-4e4b-ec9f-28d63555b91c"
      },
      "outputs": [
        {
          "name": "stdout",
          "output_type": "stream",
          "text": [
            "venta\n"
          ]
        }
      ],
      "source": [
        "extractor_url = ExtractorURL('bytebank/cambio?monedaOrigen=usd&monedaDestino=cop&cantidad=100&operacion=venta')\n",
        "valor_parametro = extractor_url.get_valor_parametro('operacion')\n",
        "print(valor_parametro)"
      ]
    },
    {
      "cell_type": "code",
      "execution_count": null,
      "metadata": {
        "colab": {
          "base_uri": "https://localhost:8080/"
        },
        "id": "6AxLtSnVMNoE",
        "outputId": "03260219-05a1-4d5d-e6d2-47cafef0264e"
      },
      "outputs": [
        {
          "data": {
            "text/plain": [
              "NoneType"
            ]
          },
          "execution_count": 22,
          "metadata": {},
          "output_type": "execute_result"
        }
      ],
      "source": [
        "type(None)"
      ]
    },
    {
      "cell_type": "code",
      "execution_count": null,
      "metadata": {
        "id": "9_ayFJR5PCKr"
      },
      "outputs": [],
      "source": [
        "def test(valor):\n",
        "  if valor:\n",
        "    print('El valor es verdadero')\n",
        "  else:\n",
        "    print('El valor es falso')"
      ]
    },
    {
      "cell_type": "code",
      "execution_count": null,
      "metadata": {
        "colab": {
          "base_uri": "https://localhost:8080/"
        },
        "id": "MTaRFkShPVQN",
        "outputId": "e34bc315-ca15-4314-ff30-877d6226bec5"
      },
      "outputs": [
        {
          "name": "stdout",
          "output_type": "stream",
          "text": [
            "El valor es falso\n"
          ]
        }
      ],
      "source": [
        "test('')"
      ]
    },
    {
      "cell_type": "code",
      "execution_count": null,
      "metadata": {
        "colab": {
          "base_uri": "https://localhost:8080/"
        },
        "id": "vK-hfic6PW3T",
        "outputId": "6bced409-574e-4f3f-fba1-c96ddc845e9e"
      },
      "outputs": [
        {
          "name": "stdout",
          "output_type": "stream",
          "text": [
            "El valor es falso\n"
          ]
        }
      ],
      "source": [
        "test(None)"
      ]
    },
    {
      "cell_type": "code",
      "execution_count": null,
      "metadata": {
        "colab": {
          "base_uri": "https://localhost:8080/"
        },
        "id": "fowIzWIlPY5Y",
        "outputId": "5d5dcf45-1708-42b5-bdb2-12bbb4b73ef6"
      },
      "outputs": [
        {
          "data": {
            "text/plain": [
              "False"
            ]
          },
          "execution_count": 26,
          "metadata": {},
          "output_type": "execute_result"
        }
      ],
      "source": [
        "bool('')"
      ]
    },
    {
      "cell_type": "code",
      "execution_count": null,
      "metadata": {
        "id": "7LJwnGCEPhpS"
      },
      "outputs": [],
      "source": [
        "#RegEx Regular Expressions\n",
        "import re\n",
        "\n",
        "direccion = 'Calle Cristobal ,No. 45, La Loma, 54060-7689'\n",
        "patron = re.compile('[0-9]{5}[-]?[0-9]{4}')"
      ]
    },
    {
      "cell_type": "code",
      "execution_count": null,
      "metadata": {
        "colab": {
          "base_uri": "https://localhost:8080/"
        },
        "id": "L8qNhc1TS9rS",
        "outputId": "7d0a6c0e-2ed8-4b8b-8f90-0575f639d3c3"
      },
      "outputs": [
        {
          "name": "stdout",
          "output_type": "stream",
          "text": [
            "54060-7689\n"
          ]
        }
      ],
      "source": [
        "busqueda = patron.search(direccion)\n",
        "if busqueda:\n",
        "  print(busqueda.group())"
      ]
    },
    {
      "cell_type": "code",
      "execution_count": null,
      "metadata": {
        "id": "n8RiS9HRTLzN"
      },
      "outputs": [],
      "source": [
        "'''\n",
        "Ejemplos de URLs válidas:\n",
        "    bytebank.com/cambio\n",
        "    bytebank.com.mx/cambio\n",
        "    www.bytebank.com/cambio\n",
        "    www.bytebank.com.mx/cambio\n",
        "    http://www.bytebank.com/cambio\n",
        "    http://www.bytebank.com.mx/cambio\n",
        "    https://www.bytebank.com/cambio\n",
        "    https://www.bytebank.com.mx/cambio\n",
        "\n",
        "Ejemplos de URL inválidas:\n",
        "    https://bytebank/cambio\n",
        "    http://bytebank.noexiste/cambio\n",
        "    ht:bytebank.noexiste/cambio\n",
        "'''\n",
        "import re\n",
        "\n",
        "class ExtractorURL:\n",
        "  def __init__(self,url):\n",
        "    self.url = self.limpia_url(url)\n",
        "    self.valida_url()\n",
        "\n",
        "  def limpia_url(self,url):\n",
        "    if type(url) == str:\n",
        "      return url.strip()\n",
        "    else:\n",
        "      return ''\n",
        "\n",
        "  def valida_url(self):\n",
        "    if not self.url:\n",
        "      raise ValueError('La URL está vacía.')\n",
        "\n",
        "    patron_url = re.compile('(http[s]?://)?(www.)?bytebank.com(.mx)?/cambio')\n",
        "    match_ = patron_url.match(self.url)\n",
        "    if not match_:\n",
        "      print('La url es inválida.')\n",
        "\n",
        "  def get_base(self):\n",
        "    indice_interrogacion = self.url.find('?')\n",
        "    base_url = self.url[:indice_interrogacion]\n",
        "    return base_url\n",
        "\n",
        "  def get_parametros(self):\n",
        "    indice_interrogacion = self.url.find('?')\n",
        "    parametros_url = self.url[indice_interrogacion+1:]\n",
        "    return parametros_url\n",
        "\n",
        "  def get_valor_parametro(self,parametro_busqueda):\n",
        "    parametro_busqueda = parametro_busqueda\n",
        "    indice_parametro = self.get_parametros().find(parametro_busqueda)\n",
        "    indice_valor = indice_parametro + len(parametro_busqueda) + 1\n",
        "    indice_and = self.get_parametros().find('&',indice_valor)\n",
        "    if indice_and == -1:\n",
        "      valor = self.get_parametros()[indice_valor:]\n",
        "    else:\n",
        "      valor = self.get_parametros()[indice_valor:indice_and]\n",
        "    return valor\n",
        "\n",
        "  def __len__(self):\n",
        "    return len(self.url)\n",
        "\n",
        "  def __str__(self):\n",
        "    return self.url + '\\n Url base: ' + self.get_base() + '\\n Parámetros: ' + self.get_parametros()\n",
        "\n",
        "  def __eq__(self, other):\n",
        "    return self.url == other.url"
      ]
    },
    {
      "cell_type": "code",
      "execution_count": null,
      "metadata": {
        "id": "TBLfjLoUbDoT"
      },
      "outputs": [],
      "source": [
        "extractor_url = ExtractorURL('bytebank.com/cambio?monedaOrigen=usd&monedaDestino=cop&cantidad=100&operacion=venta')\n",
        "extractor_url_2 = ExtractorURL('bytebank.com/cambio?monedaOrigen=usd&monedaDestino=cop&cantidad=100&operacion=venta')"
      ]
    },
    {
      "cell_type": "code",
      "execution_count": null,
      "metadata": {
        "colab": {
          "base_uri": "https://localhost:8080/"
        },
        "id": "Hx4zgU-KcWl8",
        "outputId": "785cb56a-22c8-4579-b9cb-e96b1a376f18"
      },
      "outputs": [
        {
          "name": "stdout",
          "output_type": "stream",
          "text": [
            "83\n"
          ]
        }
      ],
      "source": [
        "print(len(extractor_url))"
      ]
    },
    {
      "cell_type": "code",
      "execution_count": null,
      "metadata": {
        "colab": {
          "base_uri": "https://localhost:8080/"
        },
        "id": "TgKm6TVHmsA6",
        "outputId": "8fb0a559-ce83-4aab-caab-bd4ca11ad7f2"
      },
      "outputs": [
        {
          "name": "stdout",
          "output_type": "stream",
          "text": [
            "bytebank.com/cambio?monedaOrigen=usd&monedaDestino=cop&cantidad=100&operacion=venta\n",
            " Url base: bytebank.com/cambio\n",
            " Parámetros: monedaOrigen=usd&monedaDestino=cop&cantidad=100&operacion=venta\n"
          ]
        }
      ],
      "source": [
        "print(extractor_url)"
      ]
    },
    {
      "cell_type": "code",
      "execution_count": null,
      "metadata": {
        "colab": {
          "base_uri": "https://localhost:8080/"
        },
        "id": "07rYzJyunTSz",
        "outputId": "ccfe296e-5180-4a3f-be4f-3d424b696083"
      },
      "outputs": [
        {
          "name": "stdout",
          "output_type": "stream",
          "text": [
            "True\n"
          ]
        }
      ],
      "source": [
        "print(extractor_url == extractor_url_2) # extractor_url.__eq__(extractror_url_2)"
      ]
    },
    {
      "cell_type": "code",
      "execution_count": null,
      "metadata": {
        "colab": {
          "base_uri": "https://localhost:8080/"
        },
        "id": "VAtNMvsdoPds",
        "outputId": "7ad28d08-af54-4a18-aac8-c695566d0dcf"
      },
      "outputs": [
        {
          "name": "stdout",
          "output_type": "stream",
          "text": [
            "134069425492160\n",
            "134069425499648\n"
          ]
        }
      ],
      "source": [
        "print(id(extractor_url))\n",
        "print(id(extractor_url_2))"
      ]
    }
  ],
  "metadata": {
    "colab": {
      "authorship_tag": "ABX9TyNVmMd2RiU0Lp/hYJH7ltnm",
      "include_colab_link": true,
      "provenance": []
    },
    "kernelspec": {
      "display_name": "Python 3",
      "name": "python3"
    },
    "language_info": {
      "codemirror_mode": {
        "name": "ipython",
        "version": 3
      },
      "file_extension": ".py",
      "mimetype": "text/x-python",
      "name": "python",
      "nbconvert_exporter": "python",
      "pygments_lexer": "ipython3",
      "version": "3.11.9"
    }
  },
  "nbformat": 4,
  "nbformat_minor": 0
}
