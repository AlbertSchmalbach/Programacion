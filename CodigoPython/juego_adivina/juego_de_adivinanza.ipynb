{
  "cells": [
    {
      "cell_type": "markdown",
      "metadata": {
        "colab_type": "text",
        "id": "view-in-github"
      },
      "source": [
        "<a href=\"https://colab.research.google.com/github/ahcamachod/2011-python-funciones-incorporadas/blob/aula-2/juego_de_adivinanza.ipynb\" target=\"_parent\"><img src=\"https://colab.research.google.com/assets/colab-badge.svg\" alt=\"Open In Colab\"/></a>"
      ]
    },
    {
      "cell_type": "code",
      "execution_count": null,
      "metadata": {
        "id": "nwCr9hUs4Vwk"
      },
      "outputs": [],
      "source": [
        "import random\n",
        "\n",
        "print(\"**********************\")\n",
        "print(\"  Adivina el numero\")\n",
        "print(\"**********************\")\n",
        "\n",
        "# numero_secreto = int(random.random() * 100)\n",
        "numero_secreto = random.randint(1, 100)\n",
        "total_intentos = 3\n",
        "intento = 1\n",
        "\n",
        "while (total_intentos >= intento):\n",
        "  #print(\"Intento {} de {}\".format(intento, total_intentos))\n",
        "  print(f\"Intento {intento} de {total_intentos}\")\n",
        "  entrada_str = input(\"Digita un número: \")\n",
        "  entrada = int(entrada_str)\n",
        "  print(\"El número que digitaste: \",entrada)\n",
        "\n",
        "\n",
        "  acerto = numero_secreto == entrada\n",
        "  mayor = entrada > numero_secreto\n",
        "  menor = entrada < numero_secreto\n",
        "  if (acerto):\n",
        "    print(\"Has acertado el número!\")\n",
        "  else:\n",
        "    if (mayor):\n",
        "      print(\"El número no corresponde! El número que ingresaste es mayor.\")\n",
        "    elif (menor):\n",
        "      print(\"El número no corresponde! El número que ingresaste es menor.\")\n",
        "  intento = intento + 1\n",
        "\n",
        "print(\"El juego ha concluído!\")"
      ]
    },
    {
      "cell_type": "code",
      "execution_count": null,
      "metadata": {
        "id": "FIuqa5Dn6SBk"
      },
      "outputs": [],
      "source": [
        "import random\n",
        "\n",
        "print(\"****************************************\")\n",
        "print(\"**********Adivina el Número*************\")\n",
        "print(\"****************************************\")\n",
        "print(\"*****Elige el nivel de dificultad*******\")\n",
        "print(\"(1) Novato (2) Intermedio (3) Avanzado\")\n",
        "\n",
        "nivel = int(input('Nivel: '))\n",
        "\n",
        "if nivel == 1:\n",
        "  total_intentos = 20\n",
        "elif nivel == 2:\n",
        "  total_intentos = 10\n",
        "else:\n",
        "  total_intentos = 5\n",
        "\n",
        "numero_secreto = random.randint(1, 100)\n",
        "print(numero_secreto)\n",
        "puntos = 1000\n",
        "\n",
        "for intento in range(1, total_intentos + 1):\n",
        "  print(\"Intento {} de {}\".format(intento, total_intentos))\n",
        "  entrada_str = input(\"Digita un número mayor que 0 y menor o igual a 100: \")\n",
        "  entrada = int(entrada_str)\n",
        "\n",
        "  if (entrada < 1 or entrada > 100):\n",
        "    print(\"¡Debes ingresar un número entre 1 y 100!\")\n",
        "    continue\n",
        "    \n",
        "  print(\"El número que digitaste: \", entrada)\n",
        "\n",
        "  acerto = numero_secreto == entrada\n",
        "  mayor = entrada > numero_secreto\n",
        "  menor = entrada < numero_secreto\n",
        "\n",
        "  if (acerto):\n",
        "    print(f\"Has acertado el número! 😎 Tu puntaje es {puntos}\")\n",
        "    break\n",
        "  else:\n",
        "    if (mayor):\n",
        "      print(\"El número no corresponde! El número que ingresaste es mayor.\")\n",
        "    elif (menor):\n",
        "      print(\"El número no corresponde! El número que ingresaste es menor.\")\n",
        "    puntos_perdidos = abs(numero_secreto - entrada)\n",
        "    puntos = puntos - puntos_perdidos\n",
        "  \n",
        "\n",
        "print(\"El juego ha concluído!\")"
      ]
    }
  ],
  "metadata": {
    "colab": {
      "authorship_tag": "ABX9TyMcaBLBcZF+PwfQje/lbhfX",
      "include_colab_link": true,
      "provenance": []
    },
    "kernelspec": {
      "display_name": "Python 3",
      "name": "python3"
    },
    "language_info": {
      "codemirror_mode": {
        "name": "ipython",
        "version": 3
      },
      "file_extension": ".py",
      "mimetype": "text/x-python",
      "name": "python",
      "nbconvert_exporter": "python",
      "pygments_lexer": "ipython3",
      "version": "3.11.3"
    }
  },
  "nbformat": 4,
  "nbformat_minor": 0
}
