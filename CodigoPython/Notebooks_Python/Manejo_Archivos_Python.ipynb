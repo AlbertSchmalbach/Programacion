{
 "cells": [
  {
   "cell_type": "markdown",
   "id": "bc4a136b",
   "metadata": {},
   "source": [
    "# 📘 Curso de Manejo de Archivos en Python\n",
    "**Duración estimada:** 7 días (1 hora diaria)  \n",
    "**Nivel:** Básico a avanzado  \n",
    "**Requisitos:** Conocer variables, funciones y estructuras básicas de Python."
   ]
  },
  {
   "cell_type": "markdown",
   "id": "dc8bbdb7",
   "metadata": {},
   "source": [
    "## 🗓️ Día 1: Introducción al manejo de archivos"
   ]
  },
  {
   "cell_type": "markdown",
   "id": "af5fc95f",
   "metadata": {},
   "source": [
    "### Teoría:\n",
    "- Tipos de archivos: texto y binarios.\n",
    "- Modos de apertura:\n",
    "  - `\"r\"`: leer\n",
    "  - `\"w\"`: escribir (sobrescribe)\n",
    "  - `\"a\"`: agregar\n",
    "  - `\"x\"`: crear nuevo archivo\n",
    "  - `\"b\"`: binario\n",
    "  - `\"t\"`: texto (por defecto)\n",
    "  - `\"r+\"`, `\"w+\"`: leer y escribir"
   ]
  },
  {
   "cell_type": "code",
   "execution_count": 2,
   "id": "ea3fb10a",
   "metadata": {},
   "outputs": [],
   "source": [
    "# Crear archivo y escribir texto\n",
    "with open(\"archivo.txt\", \"w\") as archivo:\n",
    "    archivo.write(\"Hola, mundo\\n\")"
   ]
  },
  {
   "cell_type": "markdown",
   "id": "28597c0a",
   "metadata": {},
   "source": [
    "### Ejercicio:\n",
    "1. Crea `saludo.txt` y escribe tu nombre y ciudad.\n",
    "2. Abre el archivo y muestra su contenido."
   ]
  },
  {
   "cell_type": "markdown",
   "id": "5096c738",
   "metadata": {},
   "source": [
    "## 🗓️ Día 2: Leer archivos"
   ]
  },
  {
   "cell_type": "markdown",
   "id": "fe3a7f88",
   "metadata": {},
   "source": [
    "### Teoría:\n",
    "- `read()`: lee todo\n",
    "- `readline()`: una línea\n",
    "- `readlines()`: lista de líneas"
   ]
  },
  {
   "cell_type": "code",
   "execution_count": 3,
   "id": "fdb7ecab",
   "metadata": {},
   "outputs": [
    {
     "name": "stdout",
     "output_type": "stream",
     "text": [
      "Hola, mundo\n"
     ]
    }
   ],
   "source": [
    "with open(\"archivo.txt\", \"r\") as archivo:\n",
    "    for linea in archivo:\n",
    "        print(linea.strip())"
   ]
  },
  {
   "cell_type": "markdown",
   "id": "51f5b83e",
   "metadata": {},
   "source": [
    "### Ejercicio:\n",
    "1. Lee `saludo.txt` y cuenta sus líneas.\n",
    "2. Muestra líneas que contengan una letra específica."
   ]
  },
  {
   "cell_type": "markdown",
   "id": "85bc7244",
   "metadata": {},
   "source": [
    "## 🗓️ Día 3: Escribir y agregar contenido"
   ]
  },
  {
   "cell_type": "markdown",
   "id": "f18a82fc",
   "metadata": {},
   "source": [
    "### Teoría:\n",
    "- `write()`: escribe texto\n",
    "- `\"w\"`: sobrescribe\n",
    "- `\"a\"`: agrega"
   ]
  },
  {
   "cell_type": "code",
   "execution_count": null,
   "id": "705704a9",
   "metadata": {},
   "outputs": [],
   "source": [
    "with open(\"notas.txt\", \"a\") as archivo:\n",
    "    archivo.write(\"Nueva línea\\n\")"
   ]
  },
  {
   "cell_type": "markdown",
   "id": "8c0238fe",
   "metadata": {},
   "source": [
    "### Ejercicio:\n",
    "1. Crea `tareas.txt` con al menos 3 tareas.\n",
    "2. Agrega una tarea más sin borrar las anteriores."
   ]
  },
  {
   "cell_type": "markdown",
   "id": "ad0078e9",
   "metadata": {},
   "source": [
    "## 🗓️ Día 4: Archivos CSV"
   ]
  },
  {
   "cell_type": "markdown",
   "id": "9ebe7e37",
   "metadata": {},
   "source": [
    "### Teoría:\n",
    "- Usamos el módulo `csv`."
   ]
  },
  {
   "cell_type": "code",
   "execution_count": null,
   "id": "7a47520d",
   "metadata": {},
   "outputs": [],
   "source": [
    "import csv\n",
    "\n",
    "with open(\"datos.csv\", \"w\", newline=\"\") as archivo:\n",
    "    writer = csv.writer(archivo)\n",
    "    writer.writerow([\"Nombre\", \"Edad\"])\n",
    "    writer.writerow([\"Alberto\", 41])"
   ]
  },
  {
   "cell_type": "code",
   "execution_count": null,
   "id": "87118b45",
   "metadata": {},
   "outputs": [],
   "source": [
    "with open(\"datos.csv\", \"r\") as archivo:\n",
    "    reader = csv.reader(archivo)\n",
    "    for fila in reader:\n",
    "        print(fila)"
   ]
  },
  {
   "cell_type": "markdown",
   "id": "168ef6a0",
   "metadata": {},
   "source": [
    "### Ejercicio:\n",
    "1. Crea `productos.csv` con columnas: Nombre, Precio, Stock.\n",
    "2. Muestra productos con stock menor a 5."
   ]
  },
  {
   "cell_type": "markdown",
   "id": "2b30cbc5",
   "metadata": {},
   "source": [
    "## 🗓️ Día 5: Archivos JSON"
   ]
  },
  {
   "cell_type": "markdown",
   "id": "0cb66519",
   "metadata": {},
   "source": [
    "### Teoría:\n",
    "- Usamos el módulo `json`."
   ]
  },
  {
   "cell_type": "code",
   "execution_count": null,
   "id": "15847ccb",
   "metadata": {},
   "outputs": [],
   "source": [
    "import json\n",
    "\n",
    "persona = {\"nombre\": \"Alberto\", \"edad\": 41}\n",
    "\n",
    "with open(\"persona.json\", \"w\") as archivo:\n",
    "    json.dump(persona, archivo)"
   ]
  },
  {
   "cell_type": "code",
   "execution_count": null,
   "id": "f6f9eb5f",
   "metadata": {},
   "outputs": [],
   "source": [
    "with open(\"persona.json\", \"r\") as archivo:\n",
    "    datos = json.load(archivo)\n",
    "    print(datos[\"nombre\"])"
   ]
  },
  {
   "cell_type": "markdown",
   "id": "839b319e",
   "metadata": {},
   "source": [
    "### Ejercicio:\n",
    "1. Crea `usuarios.json` con al menos 3 usuarios.\n",
    "2. Agrega un nuevo usuario y vuelve a guardar."
   ]
  },
  {
   "cell_type": "markdown",
   "id": "cbe289c5",
   "metadata": {},
   "source": [
    "## 🗓️ Día 6: Manejo de errores y rutas"
   ]
  },
  {
   "cell_type": "markdown",
   "id": "92c48fe6",
   "metadata": {},
   "source": [
    "### Teoría:\n",
    "- Excepciones con `try-except`\n",
    "- Verificar archivos con `os.path.exists`"
   ]
  },
  {
   "cell_type": "code",
   "execution_count": null,
   "id": "86bc3cae",
   "metadata": {},
   "outputs": [],
   "source": [
    "import os\n",
    "\n",
    "ruta = \"documentos/info.txt\"\n",
    "\n",
    "if os.path.exists(ruta):\n",
    "    with open(ruta, \"r\") as archivo:\n",
    "        print(archivo.read())\n",
    "else:\n",
    "    print(\"El archivo no existe.\")"
   ]
  },
  {
   "cell_type": "markdown",
   "id": "4cf93215",
   "metadata": {},
   "source": [
    "### Ejercicio:\n",
    "1. Crea una función que reciba una ruta y devuelva su contenido o error."
   ]
  },
  {
   "cell_type": "markdown",
   "id": "aa5a38a4",
   "metadata": {},
   "source": [
    "## 🗓️ Día 7: Archivos binarios"
   ]
  },
  {
   "cell_type": "markdown",
   "id": "39ddfe25",
   "metadata": {},
   "source": [
    "### Teoría:\n",
    "- Leer y escribir en binario: `\"rb\"` y `\"wb\"`\n",
    "- Útil para imágenes, música, videos."
   ]
  },
  {
   "cell_type": "code",
   "execution_count": null,
   "id": "b7c1bb58",
   "metadata": {},
   "outputs": [],
   "source": [
    "with open(\"imagen.jpg\", \"rb\") as archivo:\n",
    "    contenido = archivo.read()\n",
    "\n",
    "with open(\"copia.jpg\", \"wb\") as copia:\n",
    "    copia.write(contenido)"
   ]
  },
  {
   "cell_type": "markdown",
   "id": "27c5bd85",
   "metadata": {},
   "source": [
    "### Ejercicio:\n",
    "1. Copia una imagen de tu equipo usando Python."
   ]
  },
  {
   "cell_type": "markdown",
   "id": "727f53a9",
   "metadata": {},
   "source": [
    "## 🏁 Proyecto Final (Opcional)"
   ]
  },
  {
   "cell_type": "markdown",
   "id": "90ec5767",
   "metadata": {},
   "source": [
    "**Objetivo:** Crear un sistema de registro de usuarios.\n",
    "1. Recibir nombre y correo de varios usuarios.\n",
    "2. Guardarlos en un archivo CSV.\n",
    "3. Leer el archivo y mostrar una tabla."
   ]
  },
  {
   "cell_type": "code",
   "execution_count": null,
   "id": "a89623ba",
   "metadata": {},
   "outputs": [],
   "source": [
    "import csv\n",
    "\n",
    "def registrar_usuario(nombre, correo):\n",
    "    with open(\"usuarios.csv\", \"a\", newline=\"\") as archivo:\n",
    "        writer = csv.writer(archivo)\n",
    "        writer.writerow([nombre, correo])\n",
    "\n",
    "def mostrar_usuarios():\n",
    "    with open(\"usuarios.csv\", \"r\") as archivo:\n",
    "        reader = csv.reader(archivo)\n",
    "        for fila in reader:\n",
    "            print(fila)\n",
    "\n",
    "# Prueba\n",
    "registrar_usuario(\"Ana\", \"ana@email.com\")\n",
    "mostrar_usuarios()"
   ]
  }
 ],
 "metadata": {
  "kernelspec": {
   "display_name": "Python 3",
   "language": "python",
   "name": "python3"
  },
  "language_info": {
   "codemirror_mode": {
    "name": "ipython",
    "version": 3
   },
   "file_extension": ".py",
   "mimetype": "text/x-python",
   "name": "python",
   "nbconvert_exporter": "python",
   "pygments_lexer": "ipython3",
   "version": "3.13.5"
  }
 },
 "nbformat": 4,
 "nbformat_minor": 5
}
