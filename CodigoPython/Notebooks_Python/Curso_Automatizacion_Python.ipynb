{
 "cells": [
  {
   "cell_type": "markdown",
   "id": "fbc43f53",
   "metadata": {},
   "source": [
    "# Curso de Automatización con Python\n",
    "\n",
    "Bienvenido al curso completo de Automatización con Python. A lo largo de este cuaderno aprenderás a automatizar tareas comunes como manejo de archivos, hojas de cálculo, PDFs, correos electrónicos, entre otros."
   ]
  },
  {
   "cell_type": "markdown",
   "id": "49557672",
   "metadata": {},
   "source": [
    "## Día 1: Introducción a la Automatización con Python\n",
    "\n",
    "### ¿Qué es la automatización?\n",
    "La automatización consiste en hacer que el computador realice tareas repetitivas por ti.\n",
    "\n",
    "### ¿Por qué usar Python?\n",
    "- Fácil de aprender\n",
    "- Gran comunidad\n",
    "- Múltiples librerías para automatización"
   ]
  },
  {
   "cell_type": "markdown",
   "id": "adf394a0",
   "metadata": {},
   "source": [
    "## Día 2: Instalación del entorno de trabajo\n",
    "\n",
    "```bash\n",
    "python -m venv env\n",
    "env\\Scripts\\activate  # En Windows\n",
    "pip install pandas openpyxl pyautogui selenium requests\n",
    "```"
   ]
  },
  {
   "cell_type": "markdown",
   "id": "0e9e7447",
   "metadata": {},
   "source": [
    "## Día 3: Archivos y carpetas con `os` y `shutil`"
   ]
  },
  {
   "cell_type": "code",
   "execution_count": null,
   "id": "1bbb9474",
   "metadata": {},
   "outputs": [],
   "source": [
    "import os, shutil\n",
    "\n",
    "# Crear carpeta\n",
    "os.makedirs(\"backup\", exist_ok=True)\n",
    "\n",
    "# Mover archivos .txt\n",
    "for file in os.listdir():\n",
    "    if file.endswith(\".txt\"):\n",
    "        shutil.move(file, \"backup/\")"
   ]
  },
  {
   "cell_type": "markdown",
   "id": "186ab7e8",
   "metadata": {},
   "source": [
    "## Día 4: Renombrar archivos"
   ]
  },
  {
   "cell_type": "code",
   "execution_count": null,
   "id": "794d0629",
   "metadata": {},
   "outputs": [],
   "source": [
    "import os\n",
    "\n",
    "for count, filename in enumerate(os.listdir()):\n",
    "    if filename.endswith(\".txt\"):\n",
    "        new_name = f\"documento_{count}.txt\"\n",
    "        os.rename(filename, new_name)"
   ]
  },
  {
   "cell_type": "markdown",
   "id": "8e33c1e9",
   "metadata": {},
   "source": [
    "## Día 5: Leer y escribir archivos Excel"
   ]
  },
  {
   "cell_type": "code",
   "execution_count": null,
   "id": "56989879",
   "metadata": {},
   "outputs": [],
   "source": [
    "from openpyxl import load_workbook\n",
    "\n",
    "wb = load_workbook(\"ventas.xlsx\")\n",
    "ws = wb.active\n",
    "print(ws[\"A1\"].value)\n",
    "\n",
    "ws[\"B2\"] = 1500\n",
    "wb.save(\"ventas_actualizadas.xlsx\")"
   ]
  },
  {
   "cell_type": "markdown",
   "id": "8f799d6d",
   "metadata": {},
   "source": [
    "## Día 6: Manejo de datos con pandas"
   ]
  },
  {
   "cell_type": "code",
   "execution_count": null,
   "id": "db4e110f",
   "metadata": {},
   "outputs": [],
   "source": [
    "import pandas as pd\n",
    "\n",
    "df = pd.read_csv(\"clientes.csv\")\n",
    "df[\"Descuento\"] = df[\"Compra\"] * 0.1\n",
    "df.to_excel(\"clientes_descuento.xlsx\", index=False)"
   ]
  },
  {
   "cell_type": "markdown",
   "id": "2a57c336",
   "metadata": {},
   "source": [
    "## Día 7: Leer PDFs"
   ]
  },
  {
   "cell_type": "code",
   "execution_count": null,
   "id": "87468f1b",
   "metadata": {},
   "outputs": [],
   "source": [
    "import PyPDF2\n",
    "\n",
    "reader = PyPDF2.PdfReader(\"ejemplo.pdf\")\n",
    "print(reader.pages[0].extract_text())"
   ]
  },
  {
   "cell_type": "markdown",
   "id": "49471a65",
   "metadata": {},
   "source": [
    "## Día 8: Crear PDF"
   ]
  },
  {
   "cell_type": "code",
   "execution_count": null,
   "id": "e3edac53",
   "metadata": {},
   "outputs": [],
   "source": [
    "from fpdf import FPDF\n",
    "\n",
    "pdf = FPDF()\n",
    "pdf.add_page()\n",
    "pdf.set_font(\"Arial\", size=12)\n",
    "pdf.cell(200, 10, txt=\"Hola, esto es automático\", ln=True)\n",
    "pdf.output(\"reporte.pdf\")"
   ]
  }
 ],
 "metadata": {},
 "nbformat": 4,
 "nbformat_minor": 5
}
