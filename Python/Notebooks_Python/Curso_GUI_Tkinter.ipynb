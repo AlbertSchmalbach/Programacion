{
 "cells": [
  {
   "cell_type": "markdown",
   "id": "f5610e8b",
   "metadata": {},
   "source": [
    "# 🐍 Curso Completo de Interfaces Gráficas en Python con Tkinter\n",
    "### Con ejemplos comentados paso a paso"
   ]
  },
  {
   "cell_type": "markdown",
   "id": "42cbc71d",
   "metadata": {},
   "source": [
    "## 🔰 Módulo 1: Introducción y Primera Ventana"
   ]
  },
  {
   "cell_type": "markdown",
   "id": "33aee6ab",
   "metadata": {},
   "source": [
    "### 🎯 Objetivo: Crear una ventana básica con Tkinter"
   ]
  },
  {
   "cell_type": "code",
   "execution_count": 1,
   "id": "26b28585",
   "metadata": {},
   "outputs": [],
   "source": [
    "import tkinter as tk  # Importamos la librería tkinter y la renombramos como tk\n",
    "\n",
    "ventana = tk.Tk()  # Creamos la ventana principal\n",
    "ventana.title(\"Mi primera interfaz\")  # Establecemos el título de la ventana\n",
    "ventana.geometry(\"400x300\")  # Definimos el tamaño: ancho x alto\n",
    "ventana.config(bg=\"lightblue\")  # Establecemos un color de fondo\n",
    "\n",
    "ventana.mainloop()  # Iniciamos el bucle principal para que la ventana se mantenga abierta\n"
   ]
  },
  {
   "cell_type": "markdown",
   "id": "0317e967",
   "metadata": {},
   "source": [
    "## 🧩 Módulo 2: Widgets Básicos – Label, Entry, Button"
   ]
  },
  {
   "cell_type": "markdown",
   "id": "ec6d2d76",
   "metadata": {},
   "source": [
    "### 🎯 Objetivo: Mostrar texto, pedir datos y responder eventos con botones"
   ]
  },
  {
   "cell_type": "code",
   "execution_count": null,
   "id": "0dd7e651",
   "metadata": {},
   "outputs": [],
   "source": [
    "import tkinter as tk\n",
    "\n",
    "def saludar():\n",
    "    nombre = entrada.get()  # Obtenemos el texto ingresado en el Entry\n",
    "    etiqueta_saludo.config(text=f\"¡Hola, {nombre}!\")  # Cambiamos el texto de la etiqueta\n",
    "\n",
    "ventana = tk.Tk()\n",
    "ventana.title(\"Saludo Personalizado\")\n",
    "ventana.geometry(\"300x200\")\n",
    "\n",
    "tk.Label(ventana, text=\"¿Cómo te llamas?\").pack(pady=5)\n",
    "\n",
    "entrada = tk.Entry(ventana)\n",
    "entrada.pack(pady=5)\n",
    "\n",
    "tk.Button(ventana, text=\"Saludar\", command=saludar).pack(pady=5)\n",
    "\n",
    "etiqueta_saludo = tk.Label(ventana, text=\"\")\n",
    "etiqueta_saludo.pack(pady=5)\n",
    "\n",
    "ventana.mainloop()\n"
   ]
  },
  {
   "cell_type": "markdown",
   "id": "e176b38c",
   "metadata": {},
   "source": [
    "## 📐 Módulo 3: Organización de Widgets – Grid"
   ]
  },
  {
   "cell_type": "markdown",
   "id": "5eaccb09",
   "metadata": {},
   "source": [
    "### 🎯 Objetivo: Organizar elementos con el gestor de geometría `.grid()`"
   ]
  },
  {
   "cell_type": "code",
   "execution_count": null,
   "id": "5933df91",
   "metadata": {},
   "outputs": [],
   "source": [
    "import tkinter as tk\n",
    "\n",
    "ventana = tk.Tk()\n",
    "ventana.title(\"Formulario con Grid\")\n",
    "ventana.geometry(\"300x150\")\n",
    "\n",
    "tk.Label(ventana, text=\"Nombre:\").grid(row=0, column=0, padx=5, pady=5)\n",
    "nombre = tk.Entry(ventana)\n",
    "nombre.grid(row=0, column=1)\n",
    "\n",
    "tk.Label(ventana, text=\"Edad:\").grid(row=1, column=0, padx=5, pady=5)\n",
    "edad = tk.Entry(ventana)\n",
    "edad.grid(row=1, column=1)\n",
    "\n",
    "tk.Button(ventana, text=\"Enviar\").grid(row=2, column=0, columnspan=2, pady=10)\n",
    "\n",
    "ventana.mainloop()\n"
   ]
  }
 ],
 "metadata": {
  "kernelspec": {
   "display_name": "Python 3",
   "language": "python",
   "name": "python3"
  },
  "language_info": {
   "codemirror_mode": {
    "name": "ipython",
    "version": 3
   },
   "file_extension": ".py",
   "mimetype": "text/x-python",
   "name": "python",
   "nbconvert_exporter": "python",
   "pygments_lexer": "ipython3",
   "version": "3.13.5"
  }
 },
 "nbformat": 4,
 "nbformat_minor": 5
}
