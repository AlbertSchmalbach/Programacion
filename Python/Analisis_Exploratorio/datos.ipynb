{
 "cells": [
  {
   "cell_type": "code",
   "execution_count": 14,
   "metadata": {},
   "outputs": [],
   "source": [
    "import pandas as pd\n",
    "import os"
   ]
  },
  {
   "cell_type": "code",
   "execution_count": 15,
   "metadata": {},
   "outputs": [],
   "source": [
    "# Datos para la primera hoja\n",
    "data_hoja1 = {\n",
    "    \"Nombre\": [\n",
    "        \"Carlos López\", \"María Pérez\", \"Juan Martínez\", \"Ana Gómez\", \"Pedro Díaz\",\n",
    "        \"Laura Sánchez\", \"José Romero\", \"Andrea Ruiz\", \"Luis Torres\", \"Carmen Silva\",\n",
    "        \"Miguel Ríos\", \"Sofía Mendoza\", \"Ricardo Herrera\", \"Elena Moreno\", \"David Ortiz\"\n",
    "    ],\n",
    "    \"Fecha de nacimiento\": [\n",
    "        \"15/05/1985\", \"23/08/1990\", \"12/11/1978\", \"03/03/1983\", \"19/07/1987\",\n",
    "        \"28/06/1992\", \"10/09/1980\", \"25/12/1984\", \"09/01/1975\", \"18/04/1988\",\n",
    "        \"30/10/1982\", \"05/02/1993\", \"27/07/1981\", \"14/12/1995\", \"22/03/1979\"\n",
    "    ],\n",
    "    \"Sueldo (COP)\": [\n",
    "        2500000, 3100000, 2900000, 2800000, 2700000,\n",
    "        3500000, 2650000, 3000000, 3200000, 2750000,\n",
    "        2950000, 3450000, 3300000, 3150000, 2850000\n",
    "    ]\n",
    "}\n"
   ]
  },
  {
   "cell_type": "code",
   "execution_count": 16,
   "metadata": {},
   "outputs": [],
   "source": [
    "# Datos para la segunda hoja\n",
    "data_hoja2 = {\n",
    "    \"Fecha\": [\n",
    "        \"01/11/2024\", \"02/11/2024\", \"03/11/2024\", \"04/11/2024\", \"05/11/2024\",\n",
    "        \"06/11/2024\", \"07/11/2024\", \"08/11/2024\", \"09/11/2024\", \"10/11/2024\",\n",
    "        \"11/11/2024\", \"12/11/2024\", \"13/11/2024\", \"14/11/2024\", \"15/11/2024\"\n",
    "    ],\n",
    "    \"Categoría\": [\n",
    "        \"Electrodomésticos\", \"Muebles\", \"Ropa\", \"Tecnología\", \"Juguetes\",\n",
    "        \"Ropa\", \"Electrodomésticos\", \"Muebles\", \"Tecnología\", \"Ropa\",\n",
    "        \"Juguetes\", \"Muebles\", \"Electrodomésticos\", \"Tecnología\", \"Ropa\"\n",
    "    ],\n",
    "    \"Procedencia\": [\n",
    "        \"Nacional\", \"Importado\", \"Nacional\", \"Importado\", \"Nacional\",\n",
    "        \"Nacional\", \"Importado\", \"Nacional\", \"Importado\", \"Nacional\",\n",
    "        \"Nacional\", \"Importado\", \"Nacional\", \"Importado\", \"Nacional\"\n",
    "    ],\n",
    "    \"Vendedor\": [\n",
    "        \"Juan Pérez\", \"Ana Díaz\", \"Carlos Gómez\", \"Laura Sánchez\", \"Pedro Martínez\",\n",
    "        \"Andrea Ruiz\", \"José Torres\", \"Carmen Silva\", \"Miguel Ríos\", \"Luis Mendoza\",\n",
    "        \"Elena Moreno\", \"David Ortiz\", \"Ricardo Herrera\", \"Sofía Romero\", \"María López\"\n",
    "    ],\n",
    "    \"Ingreso Neto (COP)\": [\n",
    "        1250000, 1800000, 950000, 2200000, 1500000,\n",
    "        1200000, 2000000, 1300000, 2400000, 1050000,\n",
    "        1400000, 1850000, 1750000, 2300000, 1000000\n",
    "    ],\n",
    "    \"IVA (COP)\": [\n",
    "        237500, 342000, 180500, 418000, 285000,\n",
    "        228000, 380000, 247000, 456000, 199500,\n",
    "        266000, 351500, 332500, 437000, 190000\n",
    "    ]\n",
    "}\n"
   ]
  },
  {
   "cell_type": "code",
   "execution_count": null,
   "metadata": {},
   "outputs": [
    {
     "ename": "TypeError",
     "evalue": "unsupported operand type(s) for /: 'str' and 'str'",
     "output_type": "error",
     "traceback": [
      "\u001b[1;31m---------------------------------------------------------------------------\u001b[0m",
      "\u001b[1;31mTypeError\u001b[0m                                 Traceback (most recent call last)",
      "Cell \u001b[1;32mIn[17], line 3\u001b[0m\n\u001b[0;32m      1\u001b[0m \u001b[38;5;66;03m# Crear las hojas en un archivo Excel\u001b[39;00m\n\u001b[1;32m----> 3\u001b[0m ruta_archivo \u001b[38;5;241m=\u001b[39m \u001b[43mos\u001b[49m\u001b[38;5;241;43m.\u001b[39;49m\u001b[43mgetcwd\u001b[49m\u001b[43m(\u001b[49m\u001b[43m)\u001b[49m\u001b[43m \u001b[49m\u001b[38;5;241;43m/\u001b[39;49m\u001b[43m \u001b[49m\u001b[38;5;124;43m'\u001b[39;49m\u001b[38;5;124;43mproductos.xlsx\u001b[39;49m\u001b[38;5;124;43m'\u001b[39;49m\n\u001b[0;32m      4\u001b[0m \u001b[38;5;28;01mwith\u001b[39;00m pd\u001b[38;5;241m.\u001b[39mExcelWriter(ruta_archivo) \u001b[38;5;28;01mas\u001b[39;00m writer:\n\u001b[0;32m      5\u001b[0m     pd\u001b[38;5;241m.\u001b[39mDataFrame(data_hoja1)\u001b[38;5;241m.\u001b[39mto_excel(writer, index\u001b[38;5;241m=\u001b[39m\u001b[38;5;28;01mFalse\u001b[39;00m, sheet_name\u001b[38;5;241m=\u001b[39m\u001b[38;5;124m'\u001b[39m\u001b[38;5;124mDatos Personales\u001b[39m\u001b[38;5;124m'\u001b[39m)\n",
      "\u001b[1;31mTypeError\u001b[0m: unsupported operand type(s) for /: 'str' and 'str'"
     ]
    }
   ],
   "source": [
    "# Crear las hojas en un archivo Excel\n",
    "\n",
    "ruta_archivo = os.getcwd() + 'productos.xlsx'\n",
    "with pd.ExcelWriter(ruta_archivo) as writer:\n",
    "    pd.DataFrame(data_hoja1).to_excel(writer, index=False, sheet_name='Datos Personales')\n",
    "    pd.DataFrame(data_hoja2).to_excel(writer, index=False, sheet_name='Transacciones')\n"
   ]
  }
 ],
 "metadata": {
  "kernelspec": {
   "display_name": "Python 3",
   "language": "python",
   "name": "python3"
  },
  "language_info": {
   "codemirror_mode": {
    "name": "ipython",
    "version": 3
   },
   "file_extension": ".py",
   "mimetype": "text/x-python",
   "name": "python",
   "nbconvert_exporter": "python",
   "pygments_lexer": "ipython3",
   "version": "3.11.9"
  }
 },
 "nbformat": 4,
 "nbformat_minor": 2
}
