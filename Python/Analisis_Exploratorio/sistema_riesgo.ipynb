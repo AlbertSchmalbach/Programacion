{
 "cells": [
  {
   "cell_type": "code",
   "execution_count": null,
   "metadata": {},
   "outputs": [],
   "source": [
    "import matplotlib.pyplot as plt\n",
    "import networkx as nx\n",
    "\n",
    "# Crear un grafo vacío\n",
    "G = nx.Graph()\n",
    "\n",
    "# Agregar nodos y bordes\n",
    "# Planificación\n",
    "G.add_edge(\"Implementación SGSI\", \"Planificación\")\n",
    "G.add_edge(\"Planificación\", \"Identificación de activos de información\")\n",
    "G.add_edge(\"Planificación\", \"Evaluación de riesgos\")\n",
    "G.add_edge(\"Planificación\", \"Definición del alcance del SGSI\")\n",
    "G.add_edge(\"Planificación\", \"Políticas de seguridad\")\n",
    "G.add_edge(\"Planificación\", \"Aprobación y recursos\")\n",
    "\n",
    "# Implementación\n",
    "G.add_edge(\"Implementación SGSI\", \"Implementación\")\n",
    "G.add_edge(\"Implementación\", \"Desarrollo de controles de seguridad\")\n",
    "G.add_edge(\"Implementación\", \"Formación y concienciación\")\n",
    "G.add_edge(\"Implementación\", \"Documentación del SGSI\")\n",
    "G.add_edge(\"Implementación\", \"Implementación de controles técnicos y organizativos\")\n",
    "G.add_edge(\"Implementación\", \"Gestión de incidentes\")\n",
    "\n",
    "# Evaluación\n",
    "G.add_edge(\"Implementación SGSI\", \"Evaluación\")\n",
    "G.add_edge(\"Evaluación\", \"Monitoreo y revisión continua\")\n",
    "G.add_edge(\"Evaluación\", \"Auditorías internas\")\n",
    "G.add_edge(\"Evaluación\", \"Gestión de no conformidades\")\n",
    "G.add_edge(\"Evaluación\", \"Evaluación de la efectividad de los controles\")\n",
    "\n",
    "# Mejora continua\n",
    "G.add_edge(\"Implementación SGSI\", \"Mejora continua\")\n",
    "G.add_edge(\"Mejora continua\", \"Revisión de la dirección\")\n",
    "G.add_edge(\"Mejora continua\", \"Acciones correctivas y preventivas\")\n",
    "G.add_edge(\"Mejora continua\", \"Actualización del análisis de riesgos\")\n",
    "G.add_edge(\"Mejora continua\", \"Actualización de la documentación\")\n",
    "G.add_edge(\"Mejora continua\", \"Mejoras en los controles de seguridad\")\n",
    "\n",
    "# Dibujar el grafo\n",
    "pos = nx.spring_layout(G)\n",
    "plt.figure(figsize=(12, 8))\n",
    "nx.draw(G, pos, with_labels=True, node_color=\"skyblue\", node_size=3000, font_size=10, font_weight=\"bold\", edge_color=\"gray\")\n",
    "plt.title(\"Mapa Mental de la Implementación de un SGSI\")\n",
    "plt.show()\n"
   ]
  }
 ],
 "metadata": {
  "language_info": {
   "name": "python"
  }
 },
 "nbformat": 4,
 "nbformat_minor": 2
}
