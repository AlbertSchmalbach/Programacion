{
 "cells": [
  {
   "cell_type": "markdown",
   "id": "3e50871f",
   "metadata": {},
   "source": [
    "# Curso Completo de Java – De Básico a Avanzado en 30 Días"
   ]
  },
  {
   "cell_type": "markdown",
   "id": "bf5b136c",
   "metadata": {},
   "source": [
    "Generado por ChatGPT\n",
    "\n",
    "Este curso está diseñado para aprender Java desde cero hasta nivel avanzado, con teoría, ejemplos y ejercicios. Se utiliza Visual Studio Code como entorno de desarrollo."
   ]
  },
  {
   "cell_type": "markdown",
   "id": "94411fe7",
   "metadata": {},
   "source": [
    "## Preparación del Entorno de Desarrollo"
   ]
  },
  {
   "cell_type": "markdown",
   "id": "62e85399",
   "metadata": {},
   "source": [
    "\n",
    "### 1. Instalar Java JDK\n",
    "- Descargar desde: https://www.oracle.com/java/technologies/javase-downloads.html\n",
    "- Verificar instalación con CMD:\n",
    "```bash\n",
    "java -version\n",
    "javac -version\n",
    "```\n",
    "\n",
    "### 2. Instalar Visual Studio Code\n",
    "- Descargar desde: https://code.visualstudio.com/\n",
    "- Instalar extensión: **Java Extension Pack**\n",
    "\n",
    "### 3. Crear carpeta de proyecto\n",
    "```bash\n",
    "mkdir CursoJava\n",
    "code CursoJava\n",
    "```\n"
   ]
  },
  {
   "cell_type": "markdown",
   "id": "cdb1a216",
   "metadata": {},
   "source": [
    "## Semana 1 – Fundamentos de Java"
   ]
  },
  {
   "cell_type": "markdown",
   "id": "5dd007b4",
   "metadata": {},
   "source": [
    "### Día 1 – Introducción a Java"
   ]
  },
  {
   "cell_type": "markdown",
   "id": "702768b6",
   "metadata": {},
   "source": [
    "\n",
    "**¿Qué es Java?**\n",
    "- Lenguaje de programación multiplataforma, orientado a objetos.\n",
    "- Se ejecuta en la JVM (Java Virtual Machine).\n",
    "- JDK: Kit para desarrollar aplicaciones.\n",
    "- JRE: Entorno para ejecutar aplicaciones.\n",
    "\n",
    "**Ejemplo:**\n",
    "```java\n",
    "public class Bienvenida {\n",
    "    public static void main(String[] args) {\n",
    "        System.out.println(\"Bienvenido a Java\");\n",
    "    }\n",
    "}\n",
    "```\n",
    "\n",
    "**Ejercicio:**\n",
    "- Crear un programa que imprima tu nombre, edad y ciudad.\n"
   ]
  },
  {
   "cell_type": "markdown",
   "id": "15872147",
   "metadata": {},
   "source": [
    "### Día 2 – Variables y Tipos de Datos"
   ]
  },
  {
   "cell_type": "markdown",
   "id": "be50777a",
   "metadata": {},
   "source": [
    "\n",
    "**Tipos primitivos**: `int`, `double`, `char`, `boolean`  \n",
    "**Referencias**: `String`, `Array`, `Object`\n",
    "\n",
    "**Ejemplo:**\n",
    "```java\n",
    "int edad = 30;\n",
    "double estatura = 1.75;\n",
    "boolean aprobado = true;\n",
    "String nombre = \"Alberto\";\n",
    "\n",
    "System.out.println(nombre + \" tiene \" + edad + \" años.\");\n",
    "```\n",
    "\n",
    "**Ejercicio:**\n",
    "- Calcular el área de un rectángulo.\n"
   ]
  },
  {
   "cell_type": "markdown",
   "id": "34ca08a9",
   "metadata": {},
   "source": [
    "### Día 3 – Operadores y Entrada de Datos"
   ]
  },
  {
   "cell_type": "markdown",
   "id": "4441b102",
   "metadata": {},
   "source": [
    "\n",
    "**Operadores**:\n",
    "- Aritméticos: `+`, `-`, `*`, `/`, `%`\n",
    "- Relacionales: `==`, `!=`, `>`, `<`, `>=`, `<=`\n",
    "- Lógicos: `&&`, `||`, `!`\n",
    "\n",
    "**Ejemplo con Scanner:**\n",
    "```java\n",
    "import java.util.Scanner;\n",
    "\n",
    "Scanner sc = new Scanner(System.in);\n",
    "System.out.print(\"Ingresa un número: \");\n",
    "int numero = sc.nextInt();\n",
    "System.out.println(\"Número * 2 = \" + (numero * 2));\n",
    "```\n",
    "\n",
    "**Ejercicio:**\n",
    "- Comparar dos números e imprimir cuál es mayor.\n"
   ]
  },
  {
   "cell_type": "markdown",
   "id": "d091be3f",
   "metadata": {},
   "source": [
    "### Día 4 – Condicionales"
   ]
  },
  {
   "cell_type": "markdown",
   "id": "bde3e472",
   "metadata": {},
   "source": [
    "\n",
    "**Condicionales:** `if`, `else`, `else if`, `switch`\n",
    "\n",
    "**Ejemplo:**\n",
    "```java\n",
    "int edad = 20;\n",
    "if (edad >= 18) {\n",
    "    System.out.println(\"Es mayor de edad\");\n",
    "} else {\n",
    "    System.out.println(\"Es menor de edad\");\n",
    "}\n",
    "```\n",
    "\n",
    "**Ejercicio:**\n",
    "- Determinar si un número es positivo, negativo o cero.\n"
   ]
  },
  {
   "cell_type": "markdown",
   "id": "73760510",
   "metadata": {},
   "source": [
    "### Día 5 – Ciclos: for, while, do-while"
   ]
  },
  {
   "cell_type": "markdown",
   "id": "d5d495e4",
   "metadata": {},
   "source": [
    "\n",
    "**Ejemplo (for):**\n",
    "```java\n",
    "for (int i = 1; i <= 5; i++) {\n",
    "    System.out.println(\"Repetición \" + i);\n",
    "}\n",
    "```\n",
    "\n",
    "**Ejercicio:**\n",
    "- Imprimir los números del 1 al 100 que sean divisibles por 3.\n"
   ]
  },
  {
   "cell_type": "markdown",
   "id": "24ddd548",
   "metadata": {},
   "source": [
    "### Día 6 – Arreglos (Arrays)"
   ]
  },
  {
   "cell_type": "markdown",
   "id": "9967ef49",
   "metadata": {},
   "source": [
    "\n",
    "**Ejemplo:**\n",
    "```java\n",
    "int[] edades = {18, 25, 30};\n",
    "System.out.println(\"Primera edad: \" + edades[0]);\n",
    "```\n",
    "\n",
    "**Ejercicio:**\n",
    "- Calcular el promedio de un arreglo de 5 notas.\n"
   ]
  },
  {
   "cell_type": "markdown",
   "id": "92718e6e",
   "metadata": {},
   "source": [
    "### Día 7 – Métodos (Funciones)"
   ]
  },
  {
   "cell_type": "markdown",
   "id": "efeb7fe9",
   "metadata": {},
   "source": [
    "\n",
    "**Ejemplo:**\n",
    "```java\n",
    "public static int sumar(int a, int b) {\n",
    "    return a + b;\n",
    "}\n",
    "```\n",
    "\n",
    "**Ejercicio:**\n",
    "- Crear una función que devuelva `true` si un número es par.\n"
   ]
  },
  {
   "cell_type": "markdown",
   "id": "c97d7432",
   "metadata": {},
   "source": [
    "## Semana 2 – Programación Orientada a Objetos (POO)"
   ]
  },
  {
   "cell_type": "markdown",
   "id": "9a9eda05",
   "metadata": {},
   "source": [
    "### Día 8 – Clases y Objetos"
   ]
  },
  {
   "cell_type": "markdown",
   "id": "20a1f167",
   "metadata": {},
   "source": [
    "\n",
    "**Conceptos clave:**\n",
    "- Clase: plantilla para crear objetos.\n",
    "- Objeto: instancia de una clase.\n",
    "\n",
    "**Ejemplo:**\n",
    "```java\n",
    "class Persona {\n",
    "    String nombre;\n",
    "    int edad;\n",
    "}\n",
    "\n",
    "public class Main {\n",
    "    public static void main(String[] args) {\n",
    "        Persona p = new Persona();\n",
    "        p.nombre = \"Alberto\";\n",
    "        p.edad = 41;\n",
    "        System.out.println(p.nombre + \" tiene \" + p.edad + \" años.\");\n",
    "    }\n",
    "}\n",
    "```\n",
    "\n",
    "**Ejercicio:**\n",
    "- Crear clase Auto con atributos marca y modelo. Mostrar datos.\n"
   ]
  },
  {
   "cell_type": "markdown",
   "id": "4c351bdc",
   "metadata": {},
   "source": [
    "### Día 9 – Constructores y palabra clave this"
   ]
  },
  {
   "cell_type": "markdown",
   "id": "dc7f28c8",
   "metadata": {},
   "source": [
    "\n",
    "**Ejemplo:**\n",
    "```java\n",
    "class Persona {\n",
    "    String nombre;\n",
    "    int edad;\n",
    "\n",
    "    Persona(String nombre, int edad) {\n",
    "        this.nombre = nombre;\n",
    "        this.edad = edad;\n",
    "    }\n",
    "}\n",
    "```\n",
    "\n",
    "**Ejercicio:**\n",
    "- Crear clase Libro con constructor y método mostrarInfo().\n"
   ]
  },
  {
   "cell_type": "markdown",
   "id": "28cbeb7d",
   "metadata": {},
   "source": [
    "### Día 10 – Encapsulamiento (getters y setters)"
   ]
  },
  {
   "cell_type": "markdown",
   "id": "7c190a1d",
   "metadata": {},
   "source": [
    "\n",
    "**Ejemplo:**\n",
    "```java\n",
    "class Cuenta {\n",
    "    private double saldo;\n",
    "\n",
    "    public double getSaldo() {\n",
    "        return saldo;\n",
    "    }\n",
    "\n",
    "    public void setSaldo(double saldo) {\n",
    "        this.saldo = saldo;\n",
    "    }\n",
    "}\n",
    "```\n",
    "\n",
    "**Ejercicio:**\n",
    "- Implementar clase CuentaBancaria con saldo y operaciones.\n"
   ]
  },
  {
   "cell_type": "markdown",
   "id": "6ff5d08f",
   "metadata": {},
   "source": [
    "### Día 11 – Herencia"
   ]
  },
  {
   "cell_type": "markdown",
   "id": "755efc1c",
   "metadata": {},
   "source": [
    "\n",
    "**Ejemplo:**\n",
    "```java\n",
    "class Animal {\n",
    "    void hacerSonido() {\n",
    "        System.out.println(\"Sonido genérico\");\n",
    "    }\n",
    "}\n",
    "\n",
    "class Perro extends Animal {\n",
    "    void hacerSonido() {\n",
    "        System.out.println(\"Guau\");\n",
    "    }\n",
    "}\n",
    "```\n",
    "\n",
    "**Ejercicio:**\n",
    "- Clase Empleado y subclase Gerente.\n"
   ]
  },
  {
   "cell_type": "markdown",
   "id": "3ee50c00",
   "metadata": {},
   "source": [
    "### Día 12 – Polimorfismo y Sobrecarga"
   ]
  },
  {
   "cell_type": "markdown",
   "id": "825dc597",
   "metadata": {},
   "source": [
    "\n",
    "**Ejemplo:**\n",
    "```java\n",
    "class Calculadora {\n",
    "    int sumar(int a, int b) {\n",
    "        return a + b;\n",
    "    }\n",
    "\n",
    "    double sumar(double a, double b) {\n",
    "        return a + b;\n",
    "    }\n",
    "}\n",
    "```\n",
    "\n",
    "**Ejercicio:**\n",
    "- Sobrecargar método para calcular área de círculo y cuadrado.\n"
   ]
  },
  {
   "cell_type": "markdown",
   "id": "1a96d556",
   "metadata": {},
   "source": [
    "### Día 13 – Clases abstractas e interfaces"
   ]
  },
  {
   "cell_type": "markdown",
   "id": "82bee963",
   "metadata": {},
   "source": [
    "\n",
    "**Ejemplo:**\n",
    "```java\n",
    "interface Animal {\n",
    "    void hacerSonido();\n",
    "}\n",
    "\n",
    "class Gato implements Animal {\n",
    "    public void hacerSonido() {\n",
    "        System.out.println(\"Miau\");\n",
    "    }\n",
    "}\n",
    "```\n",
    "\n",
    "**Ejercicio:**\n",
    "- Crear interfaz Vehiculo y clase Moto.\n"
   ]
  },
  {
   "cell_type": "markdown",
   "id": "fa873c13",
   "metadata": {},
   "source": [
    "### Día 14 – Mini Proyecto: Sistema de gestión de estudiantes"
   ]
  },
  {
   "cell_type": "markdown",
   "id": "f32d81dd",
   "metadata": {},
   "source": [
    "\n",
    "**Requerimientos mínimos:**\n",
    "- Clase Estudiante con atributos (nombre, edad, nota).\n",
    "- Métodos para mostrar información y verificar si aprueba.\n"
   ]
  },
  {
   "cell_type": "markdown",
   "id": "8b790929",
   "metadata": {},
   "source": [
    "## Semana 3 – Java Intermedio"
   ]
  },
  {
   "cell_type": "markdown",
   "id": "7a6f284d",
   "metadata": {},
   "source": [
    "### Día 15 – Manejo de cadenas (String)"
   ]
  },
  {
   "cell_type": "markdown",
   "id": "aebac6a3",
   "metadata": {},
   "source": [
    "\n",
    "**Ejemplo:**\n",
    "```java\n",
    "String texto = \"Java\";\n",
    "System.out.println(texto.toUpperCase());\n",
    "```\n",
    "\n",
    "**Ejercicio:**\n",
    "- Revertir una cadena sin usar StringBuilder.reverse()\n"
   ]
  },
  {
   "cell_type": "markdown",
   "id": "1e2f62e2",
   "metadata": {},
   "source": [
    "### Día 16 – Colecciones: ArrayList, HashMap, Set"
   ]
  },
  {
   "cell_type": "markdown",
   "id": "b0da4a91",
   "metadata": {},
   "source": [
    "\n",
    "**Ejemplo:**\n",
    "```java\n",
    "ArrayList<String> nombres = new ArrayList<>();\n",
    "nombres.add(\"Ana\");\n",
    "nombres.add(\"Luis\");\n",
    "\n",
    "HashMap<String, Integer> edades = new HashMap<>();\n",
    "edades.put(\"Ana\", 25);\n",
    "```\n",
    "\n",
    "**Ejercicio:**\n",
    "- Crear agenda de contactos con HashMap\n"
   ]
  },
  {
   "cell_type": "markdown",
   "id": "98c0f0c4",
   "metadata": {},
   "source": [
    "### Día 17 – Manejo de excepciones"
   ]
  },
  {
   "cell_type": "markdown",
   "id": "029f9bfe",
   "metadata": {},
   "source": [
    "\n",
    "**Ejemplo:**\n",
    "```java\n",
    "try {\n",
    "    int resultado = 10 / 0;\n",
    "} catch (ArithmeticException e) {\n",
    "    System.out.println(\"Error: \" + e.getMessage());\n",
    "}\n",
    "```\n",
    "\n",
    "**Ejercicio:**\n",
    "- Leer número por teclado y capturar excepción si no es válido.\n"
   ]
  },
  {
   "cell_type": "markdown",
   "id": "043a57c3",
   "metadata": {},
   "source": [
    "### Día 18 – Archivos (lectura y escritura)"
   ]
  },
  {
   "cell_type": "markdown",
   "id": "a034ea30",
   "metadata": {},
   "source": [
    "\n",
    "**Ejemplo:**\n",
    "```java\n",
    "FileWriter fw = new FileWriter(\"datos.txt\");\n",
    "fw.write(\"Hola desde Java\");\n",
    "fw.close();\n",
    "```\n",
    "\n",
    "**Ejercicio:**\n",
    "- Guardar una lista de nombres en un archivo de texto.\n"
   ]
  },
  {
   "cell_type": "markdown",
   "id": "71a21760",
   "metadata": {},
   "source": [
    "### Día 19 – Fechas y tiempo (LocalDate, LocalTime)"
   ]
  },
  {
   "cell_type": "markdown",
   "id": "f3de7fd8",
   "metadata": {},
   "source": [
    "\n",
    "**Ejemplo:**\n",
    "```java\n",
    "LocalDate hoy = LocalDate.now();\n",
    "System.out.println(hoy.getDayOfWeek());\n",
    "```\n",
    "\n",
    "**Ejercicio:**\n",
    "- Calcular cuántos días faltan para fin de año.\n"
   ]
  },
  {
   "cell_type": "markdown",
   "id": "a534dc7d",
   "metadata": {},
   "source": [
    "### Día 20 – Entrada por consola con Scanner"
   ]
  },
  {
   "cell_type": "markdown",
   "id": "f6c10990",
   "metadata": {},
   "source": [
    "\n",
    "**Ejemplo:**\n",
    "```java\n",
    "Scanner sc = new Scanner(System.in);\n",
    "System.out.print(\"Ingrese nombre: \");\n",
    "String nombre = sc.nextLine();\n",
    "```\n",
    "\n",
    "**Ejercicio:**\n",
    "- Crear una calculadora interactiva.\n"
   ]
  },
  {
   "cell_type": "markdown",
   "id": "47f8c112",
   "metadata": {},
   "source": [
    "### Día 21 – Proyecto: Gestión de productos"
   ]
  },
  {
   "cell_type": "markdown",
   "id": "99313c5b",
   "metadata": {},
   "source": [
    "\n",
    "**Objetivo:**\n",
    "- Agregar, listar, buscar productos con ArrayList y menú por consola.\n"
   ]
  },
  {
   "cell_type": "markdown",
   "id": "c467230b",
   "metadata": {},
   "source": [
    "## Semana 4 – Java Avanzado"
   ]
  },
  {
   "cell_type": "markdown",
   "id": "585657d9",
   "metadata": {},
   "source": [
    "### Día 22 – Hilos (Threads)"
   ]
  },
  {
   "cell_type": "markdown",
   "id": "e841ddeb",
   "metadata": {},
   "source": [
    "\n",
    "**Ejemplo:**\n",
    "```java\n",
    "class MiHilo extends Thread {\n",
    "    public void run() {\n",
    "        System.out.println(\"Ejecutando hilo\");\n",
    "    }\n",
    "}\n",
    "```\n",
    "\n",
    "**Ejercicio:**\n",
    "- Crear dos hilos que impriman números del 1 al 5.\n"
   ]
  },
  {
   "cell_type": "markdown",
   "id": "f05ad267",
   "metadata": {},
   "source": [
    "### Día 23 – JDBC y conexión con base de datos"
   ]
  },
  {
   "cell_type": "markdown",
   "id": "dfb02035",
   "metadata": {},
   "source": [
    "\n",
    "**Pasos:**\n",
    "- Importar Driver\n",
    "- Crear conexión con MySQL\n",
    "- Ejecutar consultas\n",
    "\n",
    "**Ejemplo:**\n",
    "```java\n",
    "Connection conn = DriverManager.getConnection(\"jdbc:mysql://localhost/miBD\", \"user\", \"pass\");\n",
    "Statement stmt = conn.createStatement();\n",
    "```\n",
    "\n",
    "**Ejercicio:**\n",
    "- Mostrar empleados desde tabla `empleados` en MySQL.\n"
   ]
  },
  {
   "cell_type": "markdown",
   "id": "c029c36b",
   "metadata": {},
   "source": [
    "### Día 24 – Interfaces gráficas con Swing"
   ]
  },
  {
   "cell_type": "markdown",
   "id": "c407a9c6",
   "metadata": {},
   "source": [
    "\n",
    "**Ejemplo:**\n",
    "```java\n",
    "JFrame ventana = new JFrame(\"Mi ventana\");\n",
    "ventana.setSize(300, 200);\n",
    "ventana.setVisible(true);\n",
    "```\n",
    "\n",
    "**Ejercicio:**\n",
    "- Crear una calculadora gráfica básica.\n"
   ]
  },
  {
   "cell_type": "markdown",
   "id": "d066b501",
   "metadata": {},
   "source": [
    "### Día 25 – JavaFX (opcional)"
   ]
  },
  {
   "cell_type": "markdown",
   "id": "50905709",
   "metadata": {},
   "source": [
    "\n",
    "**Características:**\n",
    "- Controles modernos, escenas, layouts\n",
    "\n",
    "**Ejercicio:**\n",
    "- Crear una ventana con botón que diga \"Hola mundo\"\n"
   ]
  },
  {
   "cell_type": "markdown",
   "id": "2bb60b5d",
   "metadata": {},
   "source": [
    "### Día 26 – Manejo de JSON con Gson / Jackson"
   ]
  },
  {
   "cell_type": "markdown",
   "id": "2215888f",
   "metadata": {},
   "source": [
    "\n",
    "**Ejemplo:**\n",
    "```java\n",
    "Gson gson = new Gson();\n",
    "String json = gson.toJson(objeto);\n",
    "```\n",
    "\n",
    "**Ejercicio:**\n",
    "- Serializar y deserializar una clase Usuario\n"
   ]
  },
  {
   "cell_type": "markdown",
   "id": "0fabb28e",
   "metadata": {},
   "source": [
    "### Día 27 – Buenas prácticas y principios SOLID"
   ]
  },
  {
   "cell_type": "markdown",
   "id": "e724548c",
   "metadata": {},
   "source": [
    "\n",
    "**Resumen:**\n",
    "- S: Single Responsibility\n",
    "- O: Open/Closed\n",
    "- L: Liskov\n",
    "- I: Interface segregation\n",
    "- D: Dependency inversion\n"
   ]
  },
  {
   "cell_type": "markdown",
   "id": "66f7e120",
   "metadata": {},
   "source": [
    "### Día 28 – Proyecto Final CRUD"
   ]
  },
  {
   "cell_type": "markdown",
   "id": "49b51de6",
   "metadata": {},
   "source": [
    "\n",
    "**Objetivo:**\n",
    "- Crear sistema CRUD de usuarios o productos con persistencia.\n"
   ]
  },
  {
   "cell_type": "markdown",
   "id": "5ee1f2d5",
   "metadata": {},
   "source": [
    "### Día 29 – Revisión y optimización de código"
   ]
  },
  {
   "cell_type": "markdown",
   "id": "bc09b66a",
   "metadata": {},
   "source": [
    "\n",
    "**Tareas:**\n",
    "- Revisar duplicaciones, refactorizar métodos, nombres de variables.\n"
   ]
  },
  {
   "cell_type": "markdown",
   "id": "217a1333",
   "metadata": {},
   "source": [
    "### Día 30 – Simulacro de entrevista técnica en Java"
   ]
  },
  {
   "cell_type": "markdown",
   "id": "50d78cec",
   "metadata": {},
   "source": [
    "\n",
    "**Actividad:**\n",
    "- Preguntas teóricas y ejercicios como FizzBuzz, inversión de cadenas, uso de POO, etc.\n"
   ]
  }
 ],
 "metadata": {},
 "nbformat": 4,
 "nbformat_minor": 5
}